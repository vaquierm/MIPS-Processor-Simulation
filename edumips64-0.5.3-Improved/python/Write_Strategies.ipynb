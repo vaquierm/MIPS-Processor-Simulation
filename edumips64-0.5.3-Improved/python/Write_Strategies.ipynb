{
 "cells": [
  {
   "cell_type": "markdown",
   "metadata": {},
   "source": [
    "## Writeback vs Write-through strategy\n",
    "\n",
    "Here we are comparing write back write allocate with write through no write allocate.\n",
    "\n",
    "When write through is being used, the blocks are never in a dirty state since they are always concistant with the layer below. This is the reason the AMAT read is lower when the write through strategy is used. However, when the write back startegy is used, when there is a cache hit, there is no need to write to the next level. This leads to a smaller AMAT write value for the write back strategy."
   ]
  },
  {
   "cell_type": "code",
   "execution_count": 11,
   "metadata": {},
   "outputs": [],
   "source": [
    "import os, json\n",
    "import pandas as pd\n",
    "import matplotlib.pyplot as plt\n",
    "import copy\n",
    "import numpy as np\n",
    "from glob import glob\n",
    "\n",
    "results = {}\n",
    "tempList = []\n",
    "strategies = ['WB', 'WT']\n",
    "for strategy in strategies:\n",
    "    for f_name in glob('../cache_config/results/WB_WT_Comparaison/' + strategy + '/*.json'):\n",
    "        with open(f_name) as f:\n",
    "            tempList.append(json.load(f))\n",
    "    results[strategy] = copy.deepcopy(tempList)\n",
    "    tempList = []"
   ]
  },
  {
   "cell_type": "code",
   "execution_count": 12,
   "metadata": {},
   "outputs": [],
   "source": [
    "def average(results, keyword):\n",
    "    avrg = 0    \n",
    "    for result in results:\n",
    "        avrg += result[keyword]\n",
    "        \n",
    "    return avrg / len(results)\n",
    "    \n",
    "\n",
    "# Define the name of the variables of interest\n",
    "interest_var = ['amat', 'amat_read', 'amat_write']\n",
    "amat_results = {}\n",
    "\n",
    "for var in interest_var:\n",
    "    amat_results[var] = []\n",
    "    for strategy in strategies:\n",
    "        amat_results[var].append(average(results[strategy], var))\n",
    "    amat_results[var] = tuple(amat_results[var])"
   ]
  },
  {
   "cell_type": "code",
   "execution_count": 13,
   "metadata": {},
   "outputs": [
    {
     "name": "stdout",
     "output_type": "stream",
     "text": [
      "amat values:\n",
      "\tamat_WB = 9.66627140974967 cycles\n",
      "\tamat_WT = 10.342138779095302 cycles\n",
      "\n",
      "amat_read values:\n",
      "\tamat_read_WB = 9.457568796630904 cycles\n",
      "\tamat_read_WT = 8.695987524628586 cycles\n",
      "\n",
      "amat_write values:\n",
      "\tamat_write_WB = 15.856060606060607 cycles\n",
      "\tamat_write_WT = 65.0 cycles\n",
      "\n"
     ]
    },
    {
     "data": {
      "image/png": "[encoded data removed]",
      "text/plain": [
       "<Figure size 432x288 with 1 Axes>"
      ]
     },
     "metadata": {},
     "output_type": "display_data"
    }
   ],
   "source": [
    "# data to plot\n",
    "n_groups = len(strategies)\n",
    "colors = ['r', 'g', 'b']\n",
    " \n",
    "# create plot\n",
    "fig, ax = plt.subplots()\n",
    "index = np.arange(n_groups)\n",
    "bar_width = 0.2\n",
    "opacity = 0.8\n",
    "\n",
    "count = 0\n",
    "for var in interest_var:\n",
    "    print(var + \" values:\")\n",
    "    for strategy in strategies:\n",
    "        print('\\t' + var + '_' + strategy + \" = \" + str(amat_results[var][strategies.index(strategy)]) + ' cycles')\n",
    "    plt.bar(index + count * bar_width, amat_results[var], bar_width,\n",
    "        alpha=opacity,\n",
    "        color=colors[count],\n",
    "        label=var)\n",
    "    count += 1\n",
    "    print()\n",
    "\n",
    "plt.xlabel('Writing Strategies')\n",
    "plt.ylabel('AMAT')\n",
    "plt.title('Average memory access time with respect to the write strategy used')\n",
    "plt.xticks(index + bar_width, strategies)\n",
    "plt.legend()\n",
    " \n",
    "plt.tight_layout()\n",
    "plt.show()"
   ]
  },
  {
   "cell_type": "code",
   "execution_count": null,
   "metadata": {},
   "outputs": [],
   "source": []
  }
 ],
 "metadata": {
  "kernelspec": {
   "display_name": "Python 3",
   "language": "python",
   "name": "python3"
  },
  "language_info": {
   "codemirror_mode": {
    "name": "ipython",
    "version": 3
   },
   "file_extension": ".py",
   "mimetype": "text/x-python",
   "name": "python",
   "nbconvert_exporter": "python",
   "pygments_lexer": "ipython3",
   "version": "3.6.5"
  }
 },
 "nbformat": 4,
 "nbformat_minor": 2
}
