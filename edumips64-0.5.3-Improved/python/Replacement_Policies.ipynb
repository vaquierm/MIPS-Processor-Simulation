{
 "cells": [
  {
   "cell_type": "markdown",
   "metadata": {},
   "source": [
    "# Comparaison of replacement policies\n",
    "\n",
    "When the cache is at its and a new block has to be brought in the cache, a block already existing in the cache needs to be evicted. There are many ways to chose which block should be the one to be evicted. This is refered to as a replacement policy.\n",
    "\n",
    "The most common replacement policies (and the ones experimented with here are):\n",
    "\n",
    "**1. Random**\n",
    "\n",
    "Random replacement policy is the simplest policy which randomly selects the block to be evicted. It works surpisingly well. However we can achieve better results by picking the block to be evicted more carefully.\n",
    "\n",
    "**2. LRU (Least Recently Used)**\n",
    "\n",
    "LRU is known to be one of the best performing algorithms to chose the block to be evicted. This is because it takes advantage of locality. When a block is accessed, it is likely to be accessed again in the near future. Therefore, it is more advantageous in most cases to evict the block that was accessed the longest time ago.\n",
    "\n",
    "**3. FIFO (First In First Out)**\n",
    "\n",
    "The main issue with LRU is the complexity of implementation in hardware. It is difficult to produce a true LRU cache eviction policy in practice. Therefore, FIFO which is an aproximation of LRU could be concidered."
   ]
  },
  {
   "cell_type": "code",
   "execution_count": 9,
   "metadata": {
    "scrolled": true
   },
   "outputs": [
    {
     "name": "stdout",
     "output_type": "stream",
     "text": [
      "../cache_config/results/Eviction_Policy_Comparaison/Random/vet20parinum_conf3_random.json\n",
      "../cache_config/results/Eviction_Policy_Comparaison/Random/vet20parinum_conf2_random.json\n",
      "../cache_config/results/Eviction_Policy_Comparaison/Random/vet20parinum_conf1_random.json\n",
      "../cache_config/results/Eviction_Policy_Comparaison/Random/compitomin_conf3_random.json\n",
      "../cache_config/results/Eviction_Policy_Comparaison/Random/compitomin_conf1_random.json\n",
      "../cache_config/results/Eviction_Policy_Comparaison/Random/compitomin_conf2_random.json\n",
      "../cache_config/results/Eviction_Policy_Comparaison/LRU/vet20parinum_conf3_lru.json\n",
      "../cache_config/results/Eviction_Policy_Comparaison/LRU/compitomin_conf2_lru.json\n",
      "../cache_config/results/Eviction_Policy_Comparaison/LRU/vet20parinum_conf1_lru.json\n",
      "../cache_config/results/Eviction_Policy_Comparaison/LRU/compitomin_conf1_lru.json\n",
      "../cache_config/results/Eviction_Policy_Comparaison/LRU/compitomin_conf3_lru.json\n",
      "../cache_config/results/Eviction_Policy_Comparaison/LRU/vet20parinum_conf2_lru.json\n",
      "../cache_config/results/Eviction_Policy_Comparaison/FIFO/compitomin_conf1_fifo.json\n",
      "../cache_config/results/Eviction_Policy_Comparaison/FIFO/vet20parinum_conf3_fifo.json\n",
      "../cache_config/results/Eviction_Policy_Comparaison/FIFO/compitomin_conf2_fifo.json\n",
      "../cache_config/results/Eviction_Policy_Comparaison/FIFO/vet20parinum_conf1_fifo.json\n",
      "../cache_config/results/Eviction_Policy_Comparaison/FIFO/vet20parinum_conf2_fifo.json\n",
      "../cache_config/results/Eviction_Policy_Comparaison/FIFO/compitomin_conf3_fifo.json\n"
     ]
    }
   ],
   "source": [
    "import os, json\n",
    "import pandas as pd\n",
    "import matplotlib.pyplot as plt\n",
    "import numpy as np\n",
    "\n",
    "from glob import glob\n",
    "\n",
    "replacement_policies = ['Random', 'LRU', 'FIFO']\n",
    "results = {}\n",
    "\n",
    "# For each policy, get the result files\n",
    "for policy in replacement_policies:\n",
    "    # Each plicy will have a list in the dictionary of results\n",
    "    results[policy] = []\n",
    "    for f_name in glob(os.path.join('..', 'cache_config', 'results', 'Eviction_Policy_Comparaison', policy, '*.json')):\n",
    "        print(f_name)\n",
    "        with open(f_name) as f:\n",
    "            results[policy].append(json.load(f))\n",
    "            f.close\n",
    "        "
   ]
  },
  {
   "cell_type": "markdown",
   "metadata": {},
   "source": [
    "Now that we have loaded all result files, we can get the average for the AMAT across all configurations"
   ]
  },
  {
   "cell_type": "code",
   "execution_count": 10,
   "metadata": {},
   "outputs": [],
   "source": [
    "def average(results, keyword):\n",
    "    avrg = 0    \n",
    "    for result in results:\n",
    "        avrg += result[keyword]\n",
    "        \n",
    "    return avrg / len(results)\n",
    "    \n",
    "\n",
    "# Define the name of the variables of interest\n",
    "interest_var = ['amat', 'amat_read', 'amat_write']\n",
    "amat_results = {}\n",
    "\n",
    "for var in interest_var:\n",
    "    amat_results[var] = []\n",
    "    for policy in replacement_policies:\n",
    "        amat_results[var].append(average(results[policy], var))\n",
    "    amat_results[var] = tuple(amat_results[var])\n",
    "    "
   ]
  },
  {
   "cell_type": "code",
   "execution_count": 11,
   "metadata": {},
   "outputs": [
    {
     "data": {
      "text/plain": [
       "{'amat': (15.573821660692744, 15.335814668423366, 13.158300395256918),\n",
       " 'amat_read': (14.56864337018016, 14.432137154382723, 12.16564417177914),\n",
       " 'amat_write': (47.166666666666664, 46.45454545454546, 44.74242424242424)}"
      ]
     },
     "execution_count": 11,
     "metadata": {},
     "output_type": "execute_result"
    }
   ],
   "source": [
    "amat_results"
   ]
  },
  {
   "cell_type": "markdown",
   "metadata": {},
   "source": [
    "The average AMAT have been computed for each replacement policy, they can now be graphed"
   ]
  },
  {
   "cell_type": "code",
   "execution_count": 12,
   "metadata": {},
   "outputs": [
    {
     "name": "stdout",
     "output_type": "stream",
     "text": [
      "amat values:\n",
      "\tamat_Random = 15.573821660692744 cycles\n",
      "\tamat_LRU = 15.335814668423366 cycles\n",
      "\tamat_FIFO = 13.158300395256918 cycles\n",
      "\n",
      "amat_read values:\n",
      "\tamat_read_Random = 14.56864337018016 cycles\n",
      "\tamat_read_LRU = 14.432137154382723 cycles\n",
      "\tamat_read_FIFO = 12.16564417177914 cycles\n",
      "\n",
      "amat_write values:\n",
      "\tamat_write_Random = 47.166666666666664 cycles\n",
      "\tamat_write_LRU = 46.45454545454546 cycles\n",
      "\tamat_write_FIFO = 44.74242424242424 cycles\n",
      "\n"
     ]
    },
    {
     "data": {
      "image/png": "[encoded data removed]",
      "text/plain": [
       "<Figure size 432x288 with 1 Axes>"
      ]
     },
     "metadata": {},
     "output_type": "display_data"
    }
   ],
   "source": [
    "# data to plot\n",
    "n_groups = len(replacement_policies)\n",
    "colors = ['r', 'g', 'b']\n",
    " \n",
    "# create plot\n",
    "fig, ax = plt.subplots()\n",
    "index = np.arange(n_groups)\n",
    "bar_width = 0.2\n",
    "opacity = 0.8\n",
    "\n",
    "count = 0\n",
    "for var in interest_var:\n",
    "    print(var + \" values:\")\n",
    "    for policy in replacement_policies:\n",
    "        print('\\t' + var + '_' + policy + \" = \" + str(amat_results[var][replacement_policies.index(policy)]) + ' cycles')\n",
    "    plt.bar(index + count * bar_width, amat_results[var], bar_width,\n",
    "        alpha=opacity,\n",
    "        color=colors[count],\n",
    "        label=var)\n",
    "    count += 1\n",
    "    print()\n",
    "\n",
    "plt.xlabel('Replacement Policies')\n",
    "plt.ylabel('AMAT')\n",
    "plt.title('Average memory access time with respoect to the replacement policy used')\n",
    "plt.xticks(index + bar_width, replacement_policies)\n",
    "plt.legend()\n",
    " \n",
    "plt.tight_layout()\n",
    "plt.show()"
   ]
  },
  {
   "cell_type": "code",
   "execution_count": null,
   "metadata": {},
   "outputs": [],
   "source": []
  }
 ],
 "metadata": {
  "kernelspec": {
   "display_name": "Python 3",
   "language": "python",
   "name": "python3"
  },
  "language_info": {
   "codemirror_mode": {
    "name": "ipython",
    "version": 3
   },
   "file_extension": ".py",
   "mimetype": "text/x-python",
   "name": "python",
   "nbconvert_exporter": "python",
   "pygments_lexer": "ipython3",
   "version": "3.6.5"
  }
 },
 "nbformat": 4,
 "nbformat_minor": 2
}
