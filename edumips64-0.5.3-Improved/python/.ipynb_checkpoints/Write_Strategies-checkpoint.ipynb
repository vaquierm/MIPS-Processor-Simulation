{
 "cells": [
  {
   "cell_type": "markdown",
   "metadata": {},
   "source": [
    "## Writeback vs Write-through strategy\n",
    "\n",
    "Here we are comparing write back write allocate with write through no write allocate, results can be seen at the bottom of the page"
   ]
  },
  {
   "cell_type": "code",
   "execution_count": 1,
   "metadata": {},
   "outputs": [
    {
     "ename": "FileNotFoundError",
     "evalue": "[Errno 2] No such file or directory: '../cache_config_/../cache_config/results/WB_WT_Comparaison/WB/compitomin_conf2_WB.json'",
     "output_type": "error",
     "traceback": [
      "\u001b[0;31m---------------------------------------------------------------------------\u001b[0m",
      "\u001b[0;31mFileNotFoundError\u001b[0m                         Traceback (most recent call last)",
      "\u001b[0;32m<ipython-input-1-15649de53d41>\u001b[0m in \u001b[0;36m<module>\u001b[0;34m()\u001b[0m\n\u001b[1;32m     11\u001b[0m \u001b[0;32mfor\u001b[0m \u001b[0mstrategy\u001b[0m \u001b[0;32min\u001b[0m \u001b[0mstrategies\u001b[0m\u001b[0;34m:\u001b[0m\u001b[0;34m\u001b[0m\u001b[0m\n\u001b[1;32m     12\u001b[0m     \u001b[0;32mfor\u001b[0m \u001b[0mf_name\u001b[0m \u001b[0;32min\u001b[0m \u001b[0mglob\u001b[0m\u001b[0;34m(\u001b[0m\u001b[0;34m'../cache_config/results/WB_WT_Comparaison/'\u001b[0m \u001b[0;34m+\u001b[0m \u001b[0mstrategy\u001b[0m \u001b[0;34m+\u001b[0m \u001b[0;34m'/*.json'\u001b[0m\u001b[0;34m)\u001b[0m\u001b[0;34m:\u001b[0m\u001b[0;34m\u001b[0m\u001b[0m\n\u001b[0;32m---> 13\u001b[0;31m         \u001b[0;32mwith\u001b[0m \u001b[0mopen\u001b[0m\u001b[0;34m(\u001b[0m\u001b[0;34m'../cache_config_/'\u001b[0m \u001b[0;34m+\u001b[0m \u001b[0mf_name\u001b[0m\u001b[0;34m)\u001b[0m \u001b[0;32mas\u001b[0m \u001b[0mf\u001b[0m\u001b[0;34m:\u001b[0m\u001b[0;34m\u001b[0m\u001b[0m\n\u001b[0m\u001b[1;32m     14\u001b[0m             \u001b[0mtempList\u001b[0m\u001b[0;34m.\u001b[0m\u001b[0mappend\u001b[0m\u001b[0;34m(\u001b[0m\u001b[0mjson\u001b[0m\u001b[0;34m.\u001b[0m\u001b[0mload\u001b[0m\u001b[0;34m(\u001b[0m\u001b[0mf\u001b[0m\u001b[0;34m)\u001b[0m\u001b[0;34m)\u001b[0m\u001b[0;34m\u001b[0m\u001b[0m\n\u001b[1;32m     15\u001b[0m     \u001b[0mresults\u001b[0m\u001b[0;34m[\u001b[0m\u001b[0mstrategy\u001b[0m\u001b[0;34m]\u001b[0m \u001b[0;34m=\u001b[0m \u001b[0mcopy\u001b[0m\u001b[0;34m.\u001b[0m\u001b[0mdeepcopy\u001b[0m\u001b[0;34m(\u001b[0m\u001b[0mtempList\u001b[0m\u001b[0;34m)\u001b[0m\u001b[0;34m\u001b[0m\u001b[0m\n",
      "\u001b[0;31mFileNotFoundError\u001b[0m: [Errno 2] No such file or directory: '../cache_config_/../cache_config/results/WB_WT_Comparaison/WB/compitomin_conf2_WB.json'"
     ]
    }
   ],
   "source": [
    "import os, json\n",
    "import pandas as pd\n",
    "import matplotlib.pyplot as plt\n",
    "import copy\n",
    "import numpy as np\n",
    "from glob import glob\n",
    "\n",
    "results = {}\n",
    "tempList = []\n",
    "strategies = ['WB', 'WT']\n",
    "for strategy in strategies:\n",
    "    for f_name in glob('../cache_config/results/WB_WT_Comparaison/' + strategy + '/*.json'):\n",
    "        with open(f_name) as f:\n",
    "            tempList.append(json.load(f))\n",
    "    results[strategy] = copy.deepcopy(tempList)\n",
    "    tempList = []"
   ]
  },
  {
   "cell_type": "code",
   "execution_count": null,
   "metadata": {},
   "outputs": [],
   "source": [
    "def average(results, keyword):\n",
    "    avrg = 0    \n",
    "    for result in results:\n",
    "        avrg += result[keyword]\n",
    "        \n",
    "    return avrg / len(results)\n",
    "    \n",
    "\n",
    "# Define the name of the variables of interest\n",
    "interest_var = ['amat', 'amat_read', 'amat_write']\n",
    "amat_results = {}\n",
    "\n",
    "for var in interest_var:\n",
    "    amat_results[var] = []\n",
    "    for strategy in strategies:\n",
    "        amat_results[var].append(average(results[strategy], var))\n",
    "    amat_results[var] = tuple(amat_results[var])"
   ]
  },
  {
   "cell_type": "code",
   "execution_count": null,
   "metadata": {},
   "outputs": [],
   "source": [
    "# data to plot\n",
    "n_groups = len(strategies)\n",
    "colors = ['r', 'g', 'b']\n",
    " \n",
    "# create plot\n",
    "fig, ax = plt.subplots()\n",
    "index = np.arange(n_groups)\n",
    "bar_width = 0.2\n",
    "opacity = 0.8\n",
    "\n",
    "count = 0\n",
    "for var in interest_var:\n",
    "    print(var + \" values:\")\n",
    "    for strategy in strategies:\n",
    "        print('\\t' + var + '_' + strategy + \" = \" + str(amat_results[var][strategies.index(strategy)]) + ' cycles')\n",
    "    plt.bar(index + count * bar_width, amat_results[var], bar_width,\n",
    "        alpha=opacity,\n",
    "        color=colors[count],\n",
    "        label=var)\n",
    "    count += 1\n",
    "    print()\n",
    "\n",
    "plt.xlabel('Writing Strategies')\n",
    "plt.ylabel('AMAT')\n",
    "plt.title('Average memory access time with respect to the write strategy used')\n",
    "plt.xticks(index + bar_width, strategies)\n",
    "plt.legend()\n",
    " \n",
    "plt.tight_layout()\n",
    "plt.show()"
   ]
  },
  {
   "cell_type": "code",
   "execution_count": null,
   "metadata": {},
   "outputs": [],
   "source": []
  }
 ],
 "metadata": {
  "kernelspec": {
   "display_name": "Python 3",
   "language": "python",
   "name": "python3"
  },
  "language_info": {
   "codemirror_mode": {
    "name": "ipython",
    "version": 3
   },
   "file_extension": ".py",
   "mimetype": "text/x-python",
   "name": "python",
   "nbconvert_exporter": "python",
   "pygments_lexer": "ipython3",
   "version": "3.6.5"
  }
 },
 "nbformat": 4,
 "nbformat_minor": 2
}
