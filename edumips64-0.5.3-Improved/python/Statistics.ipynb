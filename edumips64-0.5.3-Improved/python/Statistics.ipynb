{
 "cells": [
  {
   "cell_type": "code",
   "execution_count": 6,
   "metadata": {},
   "outputs": [],
   "source": [
    "import os, json\n",
    "import pandas as pd\n",
    "\n",
    "path_to_json = '../benchmark_results'\n",
    "from glob import glob\n",
    "results = []\n",
    "for f_name in glob('../benchmark_results/*.json'):\n",
    "    with open('../benchmark_results/' + f_name) as f:\n",
    "        results.append(json.load(f))"
   ]
  },
  {
   "cell_type": "code",
   "execution_count": 7,
   "metadata": {},
   "outputs": [
    {
     "data": {
      "text/plain": [
       "[{'caches': [{'size': 64,\n",
       "    'hit_rate': 0.3422222222222222,\n",
       "    'strategy': 'WRITE_BACK',\n",
       "    'block_size': 8,\n",
       "    'access_time': 5},\n",
       "   {'size': 128,\n",
       "    'hit_rate': 0.6153846153846154,\n",
       "    'strategy': 'WRITE_THROUGH',\n",
       "    'block_size': 16,\n",
       "    'access_time': 15}],\n",
       "  'MMAT': 50,\n",
       "  'benchmark_name': 'compitoa.s'}]"
      ]
     },
     "execution_count": 7,
     "metadata": {},
     "output_type": "execute_result"
    }
   ],
   "source": [
    "results"
   ]
  },
  {
   "cell_type": "code",
   "execution_count": null,
   "metadata": {},
   "outputs": [],
   "source": []
  }
 ],
 "metadata": {
  "kernelspec": {
   "display_name": "Python 3",
   "language": "python",
   "name": "python3"
  },
  "language_info": {
   "codemirror_mode": {
    "name": "ipython",
    "version": 3
   },
   "file_extension": ".py",
   "mimetype": "text/x-python",
   "name": "python",
   "nbconvert_exporter": "python",
   "pygments_lexer": "ipython3",
   "version": "3.7.1"
  }
 },
 "nbformat": 4,
 "nbformat_minor": 2
}
